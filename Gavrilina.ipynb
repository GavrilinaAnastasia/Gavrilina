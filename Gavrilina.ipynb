{
 "cells": [
  {
   "cell_type": "markdown",
   "metadata": {},
   "source": [
    "Вариант 4"
   ]
  },
  {
   "cell_type": "code",
   "execution_count": 9,
   "metadata": {},
   "outputs": [
    {
     "name": "stdout",
     "output_type": "stream",
     "text": [
      "Requirement already satisfied: pandas in /home/codespace/.local/lib/python3.12/site-packages (2.2.3)\n",
      "Requirement already satisfied: numpy>=1.26.0 in /home/codespace/.local/lib/python3.12/site-packages (from pandas) (2.2.0)\n",
      "Requirement already satisfied: python-dateutil>=2.8.2 in /home/codespace/.local/lib/python3.12/site-packages (from pandas) (2.9.0.post0)\n",
      "Requirement already satisfied: pytz>=2020.1 in /home/codespace/.local/lib/python3.12/site-packages (from pandas) (2024.2)\n",
      "Requirement already satisfied: tzdata>=2022.7 in /home/codespace/.local/lib/python3.12/site-packages (from pandas) (2024.2)\n",
      "Requirement already satisfied: six>=1.5 in /home/codespace/.local/lib/python3.12/site-packages (from python-dateutil>=2.8.2->pandas) (1.17.0)\n",
      "\n",
      "\u001b[1m[\u001b[0m\u001b[34;49mnotice\u001b[0m\u001b[1;39;49m]\u001b[0m\u001b[39;49m A new release of pip is available: \u001b[0m\u001b[31;49m24.3.1\u001b[0m\u001b[39;49m -> \u001b[0m\u001b[32;49m25.0.1\u001b[0m\n",
      "\u001b[1m[\u001b[0m\u001b[34;49mnotice\u001b[0m\u001b[1;39;49m]\u001b[0m\u001b[39;49m To update, run: \u001b[0m\u001b[32;49mpython -m pip install --upgrade pip\u001b[0m\n",
      "Note: you may need to restart the kernel to use updated packages.\n"
     ]
    }
   ],
   "source": [
    "pip install pandas"
   ]
  },
  {
   "cell_type": "code",
   "execution_count": 5,
   "metadata": {},
   "outputs": [
    {
     "name": "stdout",
     "output_type": "stream",
     "text": [
      "Collecting openpyxl\n",
      "  Downloading openpyxl-3.1.5-py2.py3-none-any.whl.metadata (2.5 kB)\n",
      "Collecting et-xmlfile (from openpyxl)\n",
      "  Downloading et_xmlfile-2.0.0-py3-none-any.whl.metadata (2.7 kB)\n",
      "Downloading openpyxl-3.1.5-py2.py3-none-any.whl (250 kB)\n",
      "Downloading et_xmlfile-2.0.0-py3-none-any.whl (18 kB)\n",
      "Installing collected packages: et-xmlfile, openpyxl\n",
      "Successfully installed et-xmlfile-2.0.0 openpyxl-3.1.5\n",
      "\n",
      "\u001b[1m[\u001b[0m\u001b[34;49mnotice\u001b[0m\u001b[1;39;49m]\u001b[0m\u001b[39;49m A new release of pip is available: \u001b[0m\u001b[31;49m24.3.1\u001b[0m\u001b[39;49m -> \u001b[0m\u001b[32;49m25.0.1\u001b[0m\n",
      "\u001b[1m[\u001b[0m\u001b[34;49mnotice\u001b[0m\u001b[1;39;49m]\u001b[0m\u001b[39;49m To update, run: \u001b[0m\u001b[32;49mpython -m pip install --upgrade pip\u001b[0m\n",
      "Note: you may need to restart the kernel to use updated packages.\n"
     ]
    }
   ],
   "source": [
    "pip install openpyxl"
   ]
  },
  {
   "cell_type": "code",
   "execution_count": 7,
   "metadata": {},
   "outputs": [],
   "source": [
    "import pandas as pd"
   ]
  },
  {
   "cell_type": "code",
   "execution_count": 12,
   "metadata": {},
   "outputs": [],
   "source": [
    "df = pd.read_excel(\"https://github.com/junaart/ForStudents/raw/refs/heads/main/R/Zachet/DataSets/4.xlsx\")"
   ]
  },
  {
   "cell_type": "code",
   "execution_count": 13,
   "metadata": {},
   "outputs": [
    {
     "data": {
      "text/html": [
       "<div>\n",
       "<style scoped>\n",
       "    .dataframe tbody tr th:only-of-type {\n",
       "        vertical-align: middle;\n",
       "    }\n",
       "\n",
       "    .dataframe tbody tr th {\n",
       "        vertical-align: top;\n",
       "    }\n",
       "\n",
       "    .dataframe thead th {\n",
       "        text-align: right;\n",
       "    }\n",
       "</style>\n",
       "<table border=\"1\" class=\"dataframe\">\n",
       "  <thead>\n",
       "    <tr style=\"text-align: right;\">\n",
       "      <th></th>\n",
       "      <th>town1</th>\n",
       "      <th>Avg-Avg-О2011</th>\n",
       "      <th>Avg-Avg-О2012</th>\n",
       "      <th>Avg-Avg-О2013</th>\n",
       "      <th>Avg-Avg-О2014</th>\n",
       "      <th>Avg-Avg-О202</th>\n",
       "      <th>Avg-Avg-О203</th>\n",
       "      <th>Avg-Avg-О204</th>\n",
       "      <th>Avg-Avg-О205</th>\n",
       "      <th>Avg-Avg-О211</th>\n",
       "      <th>Avg-Avg-О212</th>\n",
       "      <th>Avg-Avg-О213</th>\n",
       "      <th>Avg-Avg-О221</th>\n",
       "      <th>Avg-Avg-О222</th>\n",
       "      <th>Avg-Avg-О223</th>\n",
       "      <th>Avg-Avg-О224</th>\n",
       "      <th>Avg-Avg-О23</th>\n",
       "      <th>Avg-Avg-О24</th>\n",
       "    </tr>\n",
       "  </thead>\n",
       "  <tbody>\n",
       "    <tr>\n",
       "      <th>0</th>\n",
       "      <td>Абакан</td>\n",
       "      <td>24.125</td>\n",
       "      <td>9.275000</td>\n",
       "      <td>11.900000</td>\n",
       "      <td>7.4</td>\n",
       "      <td>45.325</td>\n",
       "      <td>3.025000</td>\n",
       "      <td>7.045</td>\n",
       "      <td>0.250000</td>\n",
       "      <td>734554.250000</td>\n",
       "      <td>135482.275000</td>\n",
       "      <td>1041.65</td>\n",
       "      <td>17608.100000</td>\n",
       "      <td>89.4</td>\n",
       "      <td>5841.525000</td>\n",
       "      <td>1124.175</td>\n",
       "      <td>1145.375</td>\n",
       "      <td>11561.400</td>\n",
       "    </tr>\n",
       "    <tr>\n",
       "      <th>1</th>\n",
       "      <td>Азовский район</td>\n",
       "      <td>4.000</td>\n",
       "      <td>2.333333</td>\n",
       "      <td>1.666667</td>\n",
       "      <td>0.0</td>\n",
       "      <td>0.000</td>\n",
       "      <td>2.333333</td>\n",
       "      <td>8.000</td>\n",
       "      <td>0.666667</td>\n",
       "      <td>10070.633333</td>\n",
       "      <td>7003.233333</td>\n",
       "      <td>11.40</td>\n",
       "      <td>10363.366667</td>\n",
       "      <td>0.0</td>\n",
       "      <td>5895.166667</td>\n",
       "      <td>0.000</td>\n",
       "      <td>0.000</td>\n",
       "      <td>10599.500</td>\n",
       "    </tr>\n",
       "    <tr>\n",
       "      <th>2</th>\n",
       "      <td>Аксайский район</td>\n",
       "      <td>35.250</td>\n",
       "      <td>7.500000</td>\n",
       "      <td>39.125000</td>\n",
       "      <td>5.0</td>\n",
       "      <td>1.750</td>\n",
       "      <td>4.975000</td>\n",
       "      <td>61.350</td>\n",
       "      <td>46.250000</td>\n",
       "      <td>77963.247500</td>\n",
       "      <td>47456.745000</td>\n",
       "      <td>538.00</td>\n",
       "      <td>156383.575000</td>\n",
       "      <td>0.0</td>\n",
       "      <td>2713.625000</td>\n",
       "      <td>1812.750</td>\n",
       "      <td>0.000</td>\n",
       "      <td>68427.425</td>\n",
       "    </tr>\n",
       "    <tr>\n",
       "      <th>3</th>\n",
       "      <td>Алексеевкий район</td>\n",
       "      <td>0.000</td>\n",
       "      <td>0.000000</td>\n",
       "      <td>0.000000</td>\n",
       "      <td>0.0</td>\n",
       "      <td>0.000</td>\n",
       "      <td>0.000000</td>\n",
       "      <td>0.000</td>\n",
       "      <td>0.000000</td>\n",
       "      <td>1777.500000</td>\n",
       "      <td>533.350000</td>\n",
       "      <td>0.00</td>\n",
       "      <td>1230.500000</td>\n",
       "      <td>0.0</td>\n",
       "      <td>0.000000</td>\n",
       "      <td>0.000</td>\n",
       "      <td>0.000</td>\n",
       "      <td>958.950</td>\n",
       "    </tr>\n",
       "    <tr>\n",
       "      <th>4</th>\n",
       "      <td>Анапа</td>\n",
       "      <td>6.500</td>\n",
       "      <td>2.000000</td>\n",
       "      <td>5.500000</td>\n",
       "      <td>0.0</td>\n",
       "      <td>0.000</td>\n",
       "      <td>3.000000</td>\n",
       "      <td>7.000</td>\n",
       "      <td>0.000000</td>\n",
       "      <td>1262.150000</td>\n",
       "      <td>495.950000</td>\n",
       "      <td>6057.40</td>\n",
       "      <td>13442.950000</td>\n",
       "      <td>0.0</td>\n",
       "      <td>0.000000</td>\n",
       "      <td>0.000</td>\n",
       "      <td>0.000</td>\n",
       "      <td>7009.900</td>\n",
       "    </tr>\n",
       "  </tbody>\n",
       "</table>\n",
       "</div>"
      ],
      "text/plain": [
       "               town1  Avg-Avg-О2011  Avg-Avg-О2012  Avg-Avg-О2013  \\\n",
       "0             Абакан         24.125       9.275000      11.900000   \n",
       "1     Азовский район          4.000       2.333333       1.666667   \n",
       "2    Аксайский район         35.250       7.500000      39.125000   \n",
       "3  Алексеевкий район          0.000       0.000000       0.000000   \n",
       "4              Анапа          6.500       2.000000       5.500000   \n",
       "\n",
       "   Avg-Avg-О2014  Avg-Avg-О202  Avg-Avg-О203  Avg-Avg-О204  Avg-Avg-О205  \\\n",
       "0            7.4        45.325      3.025000         7.045      0.250000   \n",
       "1            0.0         0.000      2.333333         8.000      0.666667   \n",
       "2            5.0         1.750      4.975000        61.350     46.250000   \n",
       "3            0.0         0.000      0.000000         0.000      0.000000   \n",
       "4            0.0         0.000      3.000000         7.000      0.000000   \n",
       "\n",
       "    Avg-Avg-О211   Avg-Avg-О212  Avg-Avg-О213   Avg-Avg-О221  Avg-Avg-О222  \\\n",
       "0  734554.250000  135482.275000       1041.65   17608.100000          89.4   \n",
       "1   10070.633333    7003.233333         11.40   10363.366667           0.0   \n",
       "2   77963.247500   47456.745000        538.00  156383.575000           0.0   \n",
       "3    1777.500000     533.350000          0.00    1230.500000           0.0   \n",
       "4    1262.150000     495.950000       6057.40   13442.950000           0.0   \n",
       "\n",
       "   Avg-Avg-О223  Avg-Avg-О224  Avg-Avg-О23  Avg-Avg-О24  \n",
       "0   5841.525000      1124.175     1145.375    11561.400  \n",
       "1   5895.166667         0.000        0.000    10599.500  \n",
       "2   2713.625000      1812.750        0.000    68427.425  \n",
       "3      0.000000         0.000        0.000      958.950  \n",
       "4      0.000000         0.000        0.000     7009.900  "
      ]
     },
     "execution_count": 13,
     "metadata": {},
     "output_type": "execute_result"
    }
   ],
   "source": [
    "df.head()"
   ]
  },
  {
   "cell_type": "code",
   "execution_count": 29,
   "metadata": {},
   "outputs": [
    {
     "name": "stdout",
     "output_type": "stream",
     "text": [
      "Requirement already satisfied: redis in /usr/local/python/3.12.1/lib/python3.12/site-packages (5.2.1)\n",
      "\n",
      "\u001b[1m[\u001b[0m\u001b[34;49mnotice\u001b[0m\u001b[1;39;49m]\u001b[0m\u001b[39;49m A new release of pip is available: \u001b[0m\u001b[31;49m24.3.1\u001b[0m\u001b[39;49m -> \u001b[0m\u001b[32;49m25.0.1\u001b[0m\n",
      "\u001b[1m[\u001b[0m\u001b[34;49mnotice\u001b[0m\u001b[1;39;49m]\u001b[0m\u001b[39;49m To update, run: \u001b[0m\u001b[32;49mpython -m pip install --upgrade pip\u001b[0m\n",
      "Note: you may need to restart the kernel to use updated packages.\n"
     ]
    }
   ],
   "source": [
    "pip install redis"
   ]
  },
  {
   "cell_type": "code",
   "execution_count": 15,
   "metadata": {},
   "outputs": [],
   "source": [
    "import redis as rd"
   ]
  },
  {
   "cell_type": "code",
   "execution_count": 18,
   "metadata": {},
   "outputs": [],
   "source": [
    "rd = rd.Redis(host='localhost', port=6379, db=0)"
   ]
  },
  {
   "cell_type": "code",
   "execution_count": 22,
   "metadata": {},
   "outputs": [
    {
     "data": {
      "text/plain": [
       "0      24.125000\n",
       "1       4.000000\n",
       "2      35.250000\n",
       "3       0.000000\n",
       "4       6.500000\n",
       "         ...    \n",
       "276    19.650000\n",
       "277    35.810833\n",
       "278    35.666667\n",
       "279    56.517857\n",
       "280     8.666667\n",
       "Name: Avg-Avg-О2011, Length: 281, dtype: float64"
      ]
     },
     "execution_count": 22,
     "metadata": {},
     "output_type": "execute_result"
    }
   ],
   "source": [
    "df[\"Avg-Avg-О2011\"]"
   ]
  },
  {
   "cell_type": "code",
   "execution_count": 23,
   "metadata": {},
   "outputs": [
    {
     "data": {
      "text/plain": [
       "'24.125'"
      ]
     },
     "execution_count": 23,
     "metadata": {},
     "output_type": "execute_result"
    }
   ],
   "source": [
    "#Выбираем из столбца Avg-Avg-О2011 первый элемент\n",
    "str(df[\"Avg-Avg-О2011\"][0])"
   ]
  },
  {
   "cell_type": "code",
   "execution_count": 24,
   "metadata": {},
   "outputs": [
    {
     "data": {
      "text/plain": [
       "'Абакан'"
      ]
     },
     "execution_count": 24,
     "metadata": {},
     "output_type": "execute_result"
    }
   ],
   "source": [
    "#Выбираем элемент 1 строки и первого столбца\n",
    "df.iloc[0,0]"
   ]
  },
  {
   "cell_type": "code",
   "execution_count": 25,
   "metadata": {},
   "outputs": [
    {
     "data": {
      "text/plain": [
       "0                 Абакан\n",
       "1         Азовский район\n",
       "2        Аксайский район\n",
       "3      Алексеевкий район\n",
       "4                  Анапа\n",
       "             ...        \n",
       "276       Южно-Сахалинск\n",
       "277               Якутск\n",
       "278                 Ялта\n",
       "279            Ярославль\n",
       "280    Ярославский район\n",
       "Name: town1, Length: 281, dtype: object"
      ]
     },
     "execution_count": 25,
     "metadata": {},
     "output_type": "execute_result"
    }
   ],
   "source": [
    "#Выбираем весь первый столбец\n",
    "df.iloc[:,0]"
   ]
  },
  {
   "cell_type": "code",
   "execution_count": 26,
   "metadata": {},
   "outputs": [
    {
     "data": {
      "text/plain": [
       "town1                Абакан\n",
       "Avg-Avg-О2011        24.125\n",
       "Avg-Avg-О2012         9.275\n",
       "Avg-Avg-О2013          11.9\n",
       "Avg-Avg-О2014           7.4\n",
       "Avg-Avg-О202         45.325\n",
       "Avg-Avg-О203          3.025\n",
       "Avg-Avg-О204          7.045\n",
       "Avg-Avg-О205           0.25\n",
       "Avg-Avg-О211      734554.25\n",
       "Avg-Avg-О212     135482.275\n",
       "Avg-Avg-О213        1041.65\n",
       "Avg-Avg-О221        17608.1\n",
       "Avg-Avg-О222           89.4\n",
       "Avg-Avg-О223       5841.525\n",
       "Avg-Avg-О224       1124.175\n",
       "Avg-Avg-О23        1145.375\n",
       "Avg-Avg-О24         11561.4\n",
       "Name: 0, dtype: object"
      ]
     },
     "execution_count": 26,
     "metadata": {},
     "output_type": "execute_result"
    }
   ],
   "source": [
    "#Выбираем все столбцы первой строки\n",
    "df.iloc[0,]"
   ]
  },
  {
   "cell_type": "code",
   "execution_count": 32,
   "metadata": {},
   "outputs": [],
   "source": [
    "import redis as rd\n",
    "r=rd.Redis() \n",
    "key = \"my\"\n",
    "for i in range(len(df[\"Avg-Avg-О2011\"])):\n",
    "    r.set(key+str(i),str(df[\"Avg-Avg-О2011\"].iloc[i]))"
   ]
  },
  {
   "cell_type": "code",
   "execution_count": 33,
   "metadata": {},
   "outputs": [
    {
     "data": {
      "text/plain": [
       "b'24.125'"
      ]
     },
     "execution_count": 33,
     "metadata": {},
     "output_type": "execute_result"
    }
   ],
   "source": [
    "r.get(\"my0\")"
   ]
  },
  {
   "cell_type": "code",
   "execution_count": 38,
   "metadata": {},
   "outputs": [
    {
     "data": {
      "text/plain": [
       "0       9.275000\n",
       "1       2.333333\n",
       "2       7.500000\n",
       "3       0.000000\n",
       "4       2.000000\n",
       "         ...    \n",
       "276     5.300000\n",
       "277    11.278333\n",
       "278    11.833333\n",
       "279    18.764286\n",
       "280     3.666667\n",
       "Name: Avg-Avg-О2012, Length: 281, dtype: float64"
      ]
     },
     "execution_count": 38,
     "metadata": {},
     "output_type": "execute_result"
    }
   ],
   "source": [
    "df[\"Avg-Avg-О2012\"]"
   ]
  },
  {
   "cell_type": "code",
   "execution_count": 41,
   "metadata": {},
   "outputs": [],
   "source": [
    "r=rd.Redis() \n",
    "key = \"my\"\n",
    "for i in range(len(df[\"Avg-Avg-О2012\"])):\n",
    "    r.set(key+str(i),str(df[\"Avg-Avg-О2012\"].iloc[i]))"
   ]
  },
  {
   "cell_type": "code",
   "execution_count": 63,
   "metadata": {},
   "outputs": [],
   "source": [
    "r=rd.Redis() \n",
    "key = \"my\"\n",
    "for i in range(len(df[\"Avg-Avg-О2012\"])):\n",
    "    r.set(key+str(i),str(df[\"Avg-Avg-О2012\"].iloc[i]))"
   ]
  },
  {
   "cell_type": "code",
   "execution_count": 64,
   "metadata": {},
   "outputs": [],
   "source": [
    "r=rd.Redis() \n",
    "key = \"my\"\n",
    "for i in range(len(df[\"Avg-Avg-О2013\"])):\n",
    "    r.set(key+str(i),str(df[\"Avg-Avg-О2013\"].iloc[i]))"
   ]
  },
  {
   "cell_type": "code",
   "execution_count": 65,
   "metadata": {},
   "outputs": [],
   "source": [
    "r=rd.Redis() \n",
    "key = \"my\"\n",
    "for i in range(len(df[\"Avg-Avg-О2014\"])):\n",
    "    r.set(key+str(i),str(df[\"Avg-Avg-О2014\"].iloc[i]))"
   ]
  },
  {
   "cell_type": "code",
   "execution_count": 67,
   "metadata": {},
   "outputs": [],
   "source": [
    "r=rd.Redis() \n",
    "key = \"my\"\n",
    "for i in range(len(df[\"Avg-Avg-О202\"])):\n",
    "    r.set(key+str(i),str(df[\"Avg-Avg-О202\"].iloc[i]))"
   ]
  },
  {
   "cell_type": "code",
   "execution_count": 68,
   "metadata": {},
   "outputs": [],
   "source": [
    "r=rd.Redis() \n",
    "key = \"my\"\n",
    "for i in range(len(df[\"Avg-Avg-О203\"])):\n",
    "    r.set(key+str(i),str(df[\"Avg-Avg-О203\"].iloc[i]))"
   ]
  },
  {
   "cell_type": "code",
   "execution_count": 69,
   "metadata": {},
   "outputs": [],
   "source": [
    "r=rd.Redis() \n",
    "key = \"my\"\n",
    "for i in range(len(df[\"Avg-Avg-О204\"])):\n",
    "    r.set(key+str(i),str(df[\"Avg-Avg-О204\"].iloc[i]))"
   ]
  },
  {
   "cell_type": "code",
   "execution_count": 70,
   "metadata": {},
   "outputs": [],
   "source": [
    "r=rd.Redis() \n",
    "key = \"my\"\n",
    "for i in range(len(df[\"Avg-Avg-О205\"])):\n",
    "    r.set(key+str(i),str(df[\"Avg-Avg-О205\"].iloc[i]))"
   ]
  },
  {
   "cell_type": "code",
   "execution_count": 71,
   "metadata": {},
   "outputs": [],
   "source": [
    "r=rd.Redis() \n",
    "key = \"my\"\n",
    "for i in range(len(df[\"Avg-Avg-О211\"])):\n",
    "    r.set(key+str(i),str(df[\"Avg-Avg-О211\"].iloc[i]))"
   ]
  },
  {
   "cell_type": "code",
   "execution_count": 72,
   "metadata": {},
   "outputs": [],
   "source": [
    "r=rd.Redis() \n",
    "key = \"my\"\n",
    "for i in range(len(df[\"Avg-Avg-О212\"])):\n",
    "    r.set(key+str(i),str(df[\"Avg-Avg-О212\"].iloc[i]))"
   ]
  },
  {
   "cell_type": "code",
   "execution_count": 73,
   "metadata": {},
   "outputs": [],
   "source": [
    "r=rd.Redis() \n",
    "key = \"my\"\n",
    "for i in range(len(df[\"Avg-Avg-О213\"])):\n",
    "    r.set(key+str(i),str(df[\"Avg-Avg-О213\"].iloc[i]))"
   ]
  },
  {
   "cell_type": "code",
   "execution_count": 74,
   "metadata": {},
   "outputs": [],
   "source": [
    "r=rd.Redis() \n",
    "key = \"my\"\n",
    "for i in range(len(df[\"Avg-Avg-О221\"])):\n",
    "    r.set(key+str(i),str(df[\"Avg-Avg-О221\"].iloc[i]))"
   ]
  },
  {
   "cell_type": "code",
   "execution_count": 75,
   "metadata": {},
   "outputs": [],
   "source": [
    "r=rd.Redis() \n",
    "key = \"my\"\n",
    "for i in range(len(df[\"Avg-Avg-О222\"])):\n",
    "    r.set(key+str(i),str(df[\"Avg-Avg-О222\"].iloc[i]))"
   ]
  },
  {
   "cell_type": "code",
   "execution_count": 76,
   "metadata": {},
   "outputs": [],
   "source": [
    "r=rd.Redis() \n",
    "key = \"my\"\n",
    "for i in range(len(df[\"Avg-Avg-О223\"])):\n",
    "    r.set(key+str(i),str(df[\"Avg-Avg-О223\"].iloc[i]))"
   ]
  },
  {
   "cell_type": "code",
   "execution_count": 77,
   "metadata": {},
   "outputs": [],
   "source": [
    "r=rd.Redis() \n",
    "key = \"my\"\n",
    "for i in range(len(df[\"Avg-Avg-О224\"])):\n",
    "    r.set(key+str(i),str(df[\"Avg-Avg-О224\"].iloc[i]))"
   ]
  },
  {
   "cell_type": "code",
   "execution_count": 78,
   "metadata": {},
   "outputs": [],
   "source": [
    "r=rd.Redis() \n",
    "key = \"my\"\n",
    "for i in range(len(df[\"Avg-Avg-О23\"])):\n",
    "    r.set(key+str(i),str(df[\"Avg-Avg-О23\"].iloc[i]))"
   ]
  },
  {
   "cell_type": "code",
   "execution_count": 79,
   "metadata": {},
   "outputs": [],
   "source": [
    "r=rd.Redis() \n",
    "key = \"my\"\n",
    "for i in range(len(df[\"Avg-Avg-О224\"])):\n",
    "    r.set(key+str(i),str(df[\"Avg-Avg-О224\"].iloc[i]))"
   ]
  }
 ],
 "metadata": {
  "kernelspec": {
   "display_name": "Python 3",
   "language": "python",
   "name": "python3"
  },
  "language_info": {
   "codemirror_mode": {
    "name": "ipython",
    "version": 3
   },
   "file_extension": ".py",
   "mimetype": "text/x-python",
   "name": "python",
   "nbconvert_exporter": "python",
   "pygments_lexer": "ipython3",
   "version": "3.12.1"
  }
 },
 "nbformat": 4,
 "nbformat_minor": 2
}
